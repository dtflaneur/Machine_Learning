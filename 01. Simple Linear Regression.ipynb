{
 "cells": [
  {
   "cell_type": "code",
   "execution_count": 1,
   "metadata": {},
   "outputs": [],
   "source": [
    "# imports\n",
    "import numpy as np\n",
    "import matplotlib.pyplot as plt\n",
    "from sklearn import linear_model"
   ]
  },
  {
   "cell_type": "code",
   "execution_count": 2,
   "metadata": {},
   "outputs": [],
   "source": [
    "# data\n",
    "dataset = [\n",
    "        [8.5, 26],\n",
    "        [7.2, 22], \n",
    "        [10, 32], \n",
    "        [5.2, 15], \n",
    "        [2, 18], \n",
    "        [3.5, 13],\n",
    "        [8, 19],\n",
    "        [9, 31]]\n",
    "\n",
    "X = np.array([[example[0]] for example in dataset])\n",
    "Y = np.array([[example[1]] for example in dataset])\n",
    "\n",
    "#print(X)\n",
    "#print(Y)"
   ]
  },
  {
   "cell_type": "code",
   "execution_count": 3,
   "metadata": {},
   "outputs": [
    {
     "data": {
      "image/png": "[encoded data removed]",
      "text/plain": [
       "<Figure size 432x288 with 1 Axes>"
      ]
     },
     "metadata": {},
     "output_type": "display_data"
    }
   ],
   "source": [
    "# Visualize\n",
    "plt.scatter(X, Y,  color='blue')\n",
    "plt.show()"
   ]
  },
  {
   "cell_type": "code",
   "execution_count": 4,
   "metadata": {},
   "outputs": [
    {
     "name": "stdout",
     "output_type": "stream",
     "text": [
      "Mean squared error: 14.394185214981666\n",
      "Linear Equation: y = 2.057745597568607*x + 8.264548136229548\n"
     ]
    }
   ],
   "source": [
    "# Create linear regression scikit-learn object\n",
    "model = linear_model.LinearRegression()\n",
    "\n",
    "# Train the model using the training set\n",
    "model.fit(X, Y)\n",
    "Y_pred = model.predict(X)\n",
    "\n",
    "# mean squared error\n",
    "mean_square_error = np.mean((Y_pred - Y) ** 2.0)\n",
    "print(\"Mean squared error: {}\".format(mean_square_error))\n",
    "\n",
    "# coefficients\n",
    "print('Linear Equation: y = {}*x + {}'.format(model.coef_[0][0], model.intercept_[0]))"
   ]
  },
  {
   "cell_type": "code",
   "execution_count": 5,
   "metadata": {},
   "outputs": [
    {
     "data": {
      "image/png": "[encoded data removed]",
      "text/plain": [
       "<Figure size 432x288 with 1 Axes>"
      ]
     },
     "metadata": {},
     "output_type": "display_data"
    }
   ],
   "source": [
    "# Plot outputs of model\n",
    "plt.scatter(X, Y,  color='blue')\n",
    "plt.plot(X, Y_pred, color='red', linewidth=1)\n",
    "plt.show()"
   ]
  },
  {
   "cell_type": "markdown",
   "metadata": {},
   "source": [
    "### Numerical Methods used to find line of Best Fit\n",
    "- Singular value decomposition (SVD)\n",
    "- Least Squares method\n",
    "- CHolesky decomposition\n",
    "- Stochastic Gradient descent"
   ]
  },
  {
   "cell_type": "markdown",
   "metadata": {},
   "source": [
    "<img src=\"resources/numerical_methods.png\" alt=\"numerical_methods\" width=\"90%\" height=\"90%\" border=\"1\" />"
   ]
  },
  {
   "cell_type": "code",
   "execution_count": null,
   "metadata": {},
   "outputs": [],
   "source": []
  }
 ],
 "metadata": {
  "kernelspec": {
   "display_name": "Python 3",
   "language": "python",
   "name": "python3"
  },
  "language_info": {
   "codemirror_mode": {
    "name": "ipython",
    "version": 3
   },
   "file_extension": ".py",
   "mimetype": "text/x-python",
   "name": "python",
   "nbconvert_exporter": "python",
   "pygments_lexer": "ipython3",
   "version": "3.6.6"
  }
 },
 "nbformat": 4,
 "nbformat_minor": 2
}
