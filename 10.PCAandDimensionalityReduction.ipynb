{
 "cells": [
  {
   "cell_type": "markdown",
   "metadata": {},
   "source": [
    "# Principal Components Analysis for Dimensionality Reduction\n",
    "##### Create and test regression model before and after dimensionality reduction"
   ]
  },
  {
   "cell_type": "code",
   "execution_count": null,
   "metadata": {},
   "outputs": [],
   "source": [
    "import pandas as pd\n",
    "import numpy as np"
   ]
  },
  {
   "cell_type": "markdown",
   "metadata": {},
   "source": [
    "### Download the Wine data set\n",
    "\n",
    "<b>Download link: </b>https://archive.ics.uci.edu/ml/machine-learning-databases/wine-quality/winequality-white.csv\n",
    "\n",
    "<b>Summary:</b> Given 11 features representing information about a number of white wines, predict its quality score\n",
    "\n",
    "<b>Notes:</b>\n",
    "* The file comes with headers, but we specify them explicitly to be in our desired format\n",
    "* Since we're using our own headers, we skip the first row of the csv file which has the header\n"
   ]
  },
  {
   "cell_type": "code",
   "execution_count": null,
   "metadata": {
    "scrolled": true
   },
   "outputs": [],
   "source": [
    "wine_data = pd.read_csv('../data/winequality-white.csv', \n",
    "                        names=['Fixed Acidity', \n",
    "                               'Volatile Acidity', \n",
    "                               'Citric Acid', \n",
    "                               'Residual Sugar', \n",
    "                               'Chlorides', \n",
    "                               'Free Sulfur Dioxide', \n",
    "                               'Total Sulfur Dioxide', \n",
    "                               'Density', \n",
    "                               'pH', \n",
    "                               'Sulphates', \n",
    "                               'Alcohol', \n",
    "                               'Quality'\n",
    "                              ],\n",
    "                        skiprows=1,\n",
    "                        sep=r'\\s*;\\s*', engine='python')\n",
    "wine_data.head()"
   ]
  },
  {
   "cell_type": "markdown",
   "metadata": {},
   "source": [
    "#### 7 Unique values. So wild guesses will be right about 14% of the time"
   ]
  },
  {
   "cell_type": "code",
   "execution_count": null,
   "metadata": {},
   "outputs": [],
   "source": [
    "wine_data['Quality'].unique()"
   ]
  },
  {
   "cell_type": "markdown",
   "metadata": {},
   "source": [
    "### Define training and test data\n",
    "Since all the data is already numeric, no conversions are necessary"
   ]
  },
  {
   "cell_type": "code",
   "execution_count": null,
   "metadata": {},
   "outputs": [],
   "source": [
    "X = wine_data.drop('Quality', axis=1)\n",
    "Y = wine_data['Quality']\n",
    "\n",
    "from sklearn import preprocessing\n",
    "X = preprocessing.scale(X)\n",
    "\n",
    "from sklearn.model_selection import train_test_split\n",
    "\n",
    "X_train, x_test, Y_train, y_test = train_test_split(X, Y, test_size=0.2, random_state=0)"
   ]
  },
  {
   "cell_type": "markdown",
   "metadata": {},
   "source": [
    "### Define the benchmark SVM Classifier\n",
    "We check how our model works with all the features without any transformations"
   ]
  },
  {
   "cell_type": "code",
   "execution_count": null,
   "metadata": {},
   "outputs": [],
   "source": [
    "from sklearn.svm import LinearSVC\n",
    "\n",
    "clf_svc = LinearSVC(penalty='l1', dual=False, tol=1e-3)\n",
    "clf_svc.fit(X_train, Y_train)"
   ]
  },
  {
   "cell_type": "markdown",
   "metadata": {},
   "source": [
    "#### Check the accuracy of the model"
   ]
  },
  {
   "cell_type": "code",
   "execution_count": null,
   "metadata": {},
   "outputs": [],
   "source": [
    "accuracy = clf_svc.score(x_test, y_test)\n",
    "print(accuracy)"
   ]
  },
  {
   "cell_type": "markdown",
   "metadata": {},
   "source": [
    "#### Plot a heatmap displaying the correlation between features"
   ]
  },
  {
   "cell_type": "code",
   "execution_count": null,
   "metadata": {},
   "outputs": [],
   "source": [
    "import matplotlib.pyplot as plt\n",
    "import seaborn as sns\n",
    "\n",
    "corrmat = wine_data.corr()\n",
    "f, ax = plt.subplots(figsize=(10, 10))\n",
    "sns.set(font_scale=1.1)\n",
    "sns.heatmap(corrmat, vmax=.8, square=True, annot=True, fmt='.2f', cmap = \"winter\")\n",
    "plt.show()"
   ]
  },
  {
   "cell_type": "markdown",
   "metadata": {},
   "source": [
    "### Use PCA for dimensionality reduction\n",
    "* <b>n_components: </b>Sets the number of dimensions\n",
    "* <b>whiten: </b>Before projecting the data to the principal components, the data will be normalized so that they have close to identity covariance. This has the effect of preventing one factor which has a high variance from being given too much importance"
   ]
  },
  {
   "cell_type": "code",
   "execution_count": null,
   "metadata": {},
   "outputs": [],
   "source": [
    "from sklearn.decomposition import PCA\n",
    "\n",
    "pca = PCA(n_components=1, whiten=True)\n",
    "X_reduced = pca.fit_transform(X)"
   ]
  },
  {
   "cell_type": "markdown",
   "metadata": {},
   "source": [
    "#### View the eigen values of each principal component in decreasing order"
   ]
  },
  {
   "cell_type": "code",
   "execution_count": null,
   "metadata": {},
   "outputs": [],
   "source": [
    "pca.explained_variance_"
   ]
  },
  {
   "cell_type": "markdown",
   "metadata": {},
   "source": [
    "#### Eigen values expressed as a ratio"
   ]
  },
  {
   "cell_type": "code",
   "execution_count": null,
   "metadata": {},
   "outputs": [],
   "source": [
    "pca.explained_variance_ratio_"
   ]
  },
  {
   "cell_type": "markdown",
   "metadata": {},
   "source": [
    "#### Generating a Scree Plot\n",
    "Can be used to visualize the Explained Variance and eliminate "
   ]
  },
  {
   "cell_type": "code",
   "execution_count": null,
   "metadata": {},
   "outputs": [],
   "source": [
    "import matplotlib.pyplot as plt\n",
    "plt.plot(pca.explained_variance_ratio_)\n",
    "plt.xlabel('Dimension')\n",
    "plt.ylabel('Explain Variance Ratio')\n",
    "plt.show()"
   ]
  },
  {
   "cell_type": "code",
   "execution_count": null,
   "metadata": {},
   "outputs": [],
   "source": [
    "X_train, x_test, Y_train, y_test = train_test_split(X_reduced, Y, test_size=0.2, random_state=0)\n",
    "clf_svc_pca = LinearSVC(penalty='l1', dual=False, tol=1e-3)\n",
    "clf_svc_pca.fit(X_train, Y_train)\n",
    "\n",
    "accuracy = clf_svc_pca.score(x_test, y_test)\n",
    "print(accuracy)"
   ]
  },
  {
   "cell_type": "code",
   "execution_count": null,
   "metadata": {},
   "outputs": [],
   "source": []
  }
 ],
 "metadata": {
  "kernelspec": {
   "display_name": "Python 3",
   "language": "python",
   "name": "python3"
  },
  "language_info": {
   "codemirror_mode": {
    "name": "ipython",
    "version": 3
   },
   "file_extension": ".py",
   "mimetype": "text/x-python",
   "name": "python",
   "nbconvert_exporter": "python",
   "pygments_lexer": "ipython3",
   "version": "3.6.6"
  }
 },
 "nbformat": 4,
 "nbformat_minor": 2
}
